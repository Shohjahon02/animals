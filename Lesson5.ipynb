{
  "nbformat": 4,
  "nbformat_minor": 0,
  "metadata": {
    "colab": {
      "provenance": [],
      "authorship_tag": "ABX9TyNsNiL1zBI1sOS0AkIklRFl",
      "include_colab_link": true
    },
    "kernelspec": {
      "name": "python3",
      "display_name": "Python 3"
    },
    "language_info": {
      "name": "python"
    }
  },
  "cells": [
    {
      "cell_type": "markdown",
      "metadata": {
        "id": "view-in-github",
        "colab_type": "text"
      },
      "source": [
        "<a href=\"https://colab.research.google.com/github/Shohjahon02/animals/blob/main/Lesson5.ipynb\" target=\"_parent\"><img src=\"https://colab.research.google.com/assets/colab-badge.svg\" alt=\"Open In Colab\"/></a>"
      ]
    },
    {
      "cell_type": "markdown",
      "source": [
        "1. Ismlar degan ro'yxat yarating va kamida 3 ta yaqin do'stingizning ismini kiriting\n"
      ],
      "metadata": {
        "id": "EARISnMs0oco"
      }
    },
    {
      "cell_type": "code",
      "execution_count": 2,
      "metadata": {
        "id": "Hj9wfEnh0CKb"
      },
      "outputs": [],
      "source": []
    },
    {
      "cell_type": "markdown",
      "source": [
        "2. Ro'yxatdagi har bir do'stingizga qisqa xabar yozib konsolga chiqaring:\n"
      ],
      "metadata": {
        "id": "8eNUfn070u8O"
      }
    },
    {
      "cell_type": "code",
      "source": [],
      "metadata": {
        "id": "T2J1Tsnz0SbZ"
      },
      "execution_count": null,
      "outputs": []
    },
    {
      "cell_type": "markdown",
      "source": [
        "3. sonlar deb nomlangan ro'yxat yarating va ichiga turli sonlarni yuklang (musbat, manfiy, butun, o'nlik).\n",
        "\n"
      ],
      "metadata": {
        "id": "OWJq863X0wMw"
      }
    },
    {
      "cell_type": "code",
      "source": [],
      "metadata": {
        "id": "52kItJHx0zIO"
      },
      "execution_count": null,
      "outputs": []
    },
    {
      "cell_type": "markdown",
      "source": [
        "4. Yuqoridagi ro'yxatdagi sonlar ustida turli arifmetik amallar bajarib ko'ring. Ro'yxatdagi ba'zi sonlarning qiymatini o'zgartiring, ba'zilarini esa almashtiring.\n",
        "\n"
      ],
      "metadata": {
        "id": "5FXruHqB0zjH"
      }
    },
    {
      "cell_type": "code",
      "source": [],
      "metadata": {
        "id": "2MK2gknq04AZ"
      },
      "execution_count": null,
      "outputs": []
    },
    {
      "cell_type": "markdown",
      "source": [
        "5. t_shaxslar va z_shaxslar degan 2 ta ro'yxat yarating va biriga o'zingiz eng ko'p hurmat qilgan tarixiy shaxslarning, ikkinchisiga esa zamonamizdagi tirik bo'lgan shaxslarning ismini kiriting.\n"
      ],
      "metadata": {
        "id": "IbSH8EdF03GV"
      }
    },
    {
      "cell_type": "code",
      "source": [],
      "metadata": {
        "id": "glGphA2A02VO"
      },
      "execution_count": null,
      "outputs": []
    },
    {
      "cell_type": "markdown",
      "source": [
        "6. Yuqoridagi ro'yxatlarning har biridan bittadan qiymatni sug'urib olib (.pop()), quyidagi ko'rinishda chiqaring:\n"
      ],
      "metadata": {
        "id": "9Ypy6tyB067n"
      }
    },
    {
      "cell_type": "code",
      "source": [],
      "metadata": {
        "id": "H7j_MAfJ1Lu9"
      },
      "execution_count": 1,
      "outputs": []
    },
    {
      "cell_type": "markdown",
      "source": [
        "7. friends nomli bo'sh ro'yxat tuzing va unga .append() yordamida 5-6 ta mehmonga chaqirmoqchi bo'lgan do'stlaringizni kiriting.\n",
        "\n"
      ],
      "metadata": {
        "id": "wtG3TOn00-cy"
      }
    },
    {
      "cell_type": "code",
      "source": [],
      "metadata": {
        "id": "lh5F9AnN1Lbu"
      },
      "execution_count": null,
      "outputs": []
    },
    {
      "cell_type": "markdown",
      "source": [
        "8. Ro'yxatning oxiriga, boshiga va o'rtasiga yangi ismlar qo'shing.\n",
        "\n"
      ],
      "metadata": {
        "id": "5eOTkbQC1FDl"
      }
    },
    {
      "cell_type": "code",
      "source": [],
      "metadata": {
        "id": "C42V3SpM1LDY"
      },
      "execution_count": null,
      "outputs": []
    },
    {
      "cell_type": "markdown",
      "source": [
        "9. Yangi mehmonlar deb nomlangan bo'sh ro'yxat yarating. .pop() va .append() metodlari yordamida mehmonga kelgan do'stlaringizning ismini friends ro'yxatidan sug'urib olib, mehmonlar ro'yxatiga qo'shing.\n",
        "\n"
      ],
      "metadata": {
        "id": "rbKJev241HCU"
      }
    },
    {
      "cell_type": "code",
      "source": [],
      "metadata": {
        "id": "QfBYh6A01KD3"
      },
      "execution_count": null,
      "outputs": []
    }
  ]
}