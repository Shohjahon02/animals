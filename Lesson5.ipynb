{
  "nbformat": 4,
  "nbformat_minor": 0,
  "metadata": {
    "colab": {
      "provenance": [],
      "authorship_tag": "ABX9TyNY7C6gAcl4SwoXMR0hv5+C",
      "include_colab_link": true
    },
    "kernelspec": {
      "name": "python3",
      "display_name": "Python 3"
    },
    "language_info": {
      "name": "python"
    }
  },
  "cells": [
    {
      "cell_type": "markdown",
      "metadata": {
        "id": "view-in-github",
        "colab_type": "text"
      },
      "source": [
        "<a href=\"https://colab.research.google.com/github/Shohjahon02/animals/blob/main/Lesson5.ipynb\" target=\"_parent\"><img src=\"https://colab.research.google.com/assets/colab-badge.svg\" alt=\"Open In Colab\"/></a>"
      ]
    },
    {
      "cell_type": "markdown",
      "source": [
        "1. Ismlar degan ro'yxat yarating va kamida 3 ta yaqin do'stingizning ismini kiriting\n"
      ],
      "metadata": {
        "id": "EARISnMs0oco"
      }
    },
    {
      "cell_type": "code",
      "execution_count": 3,
      "metadata": {
        "id": "Hj9wfEnh0CKb"
      },
      "outputs": [],
      "source": [
        "ism = ['Anvar', 'Murod', 'Oybek']"
      ]
    },
    {
      "cell_type": "markdown",
      "source": [
        "2. Ro'yxatdagi har bir do'stingizga qisqa xabar yozib konsolga chiqaring:\n"
      ],
      "metadata": {
        "id": "8eNUfn070u8O"
      }
    },
    {
      "cell_type": "code",
      "source": [
        "print(f\"Salom, {ism[0]} qaleysan?\")\n",
        "print(f\"Salom {ism[1]}, {ism[0]} yaxshimi?\")"
      ],
      "metadata": {
        "id": "T2J1Tsnz0SbZ",
        "outputId": "91fdf3f1-5670-4165-88a3-a0481b09ab3c",
        "colab": {
          "base_uri": "https://localhost:8080/"
        }
      },
      "execution_count": 7,
      "outputs": [
        {
          "output_type": "stream",
          "name": "stdout",
          "text": [
            "Salom, Anvar qaleysan?\n",
            "Salom Murod, Anvar yaxshimi?\n"
          ]
        }
      ]
    },
    {
      "cell_type": "markdown",
      "source": [
        "3. sonlar deb nomlangan ro'yxat yarating va ichiga turli sonlarni yuklang (musbat, manfiy, butun, o'nlik).\n",
        "\n"
      ],
      "metadata": {
        "id": "OWJq863X0wMw"
      }
    },
    {
      "cell_type": "code",
      "source": [],
      "metadata": {
        "id": "52kItJHx0zIO"
      },
      "execution_count": null,
      "outputs": []
    },
    {
      "cell_type": "markdown",
      "source": [
        "4. Yuqoridagi ro'yxatdagi sonlar ustida turli arifmetik amallar bajarib ko'ring. Ro'yxatdagi ba'zi sonlarning qiymatini o'zgartiring, ba'zilarini esa almashtiring.\n",
        "\n"
      ],
      "metadata": {
        "id": "5FXruHqB0zjH"
      }
    },
    {
      "cell_type": "code",
      "source": [],
      "metadata": {
        "id": "2MK2gknq04AZ"
      },
      "execution_count": null,
      "outputs": []
    },
    {
      "cell_type": "markdown",
      "source": [
        "5. t_shaxslar va z_shaxslar degan 2 ta ro'yxat yarating va biriga o'zingiz eng ko'p hurmat qilgan tarixiy shaxslarning, ikkinchisiga esa zamonamizdagi tirik bo'lgan shaxslarning ismini kiriting.\n"
      ],
      "metadata": {
        "id": "IbSH8EdF03GV"
      }
    },
    {
      "cell_type": "code",
      "source": [],
      "metadata": {
        "id": "glGphA2A02VO"
      },
      "execution_count": null,
      "outputs": []
    },
    {
      "cell_type": "markdown",
      "source": [
        "6. Yuqoridagi ro'yxatlarning har biridan bittadan qiymatni sug'urib olib (.pop()), quyidagi ko'rinishda chiqaring:\n",
        "Men Amur Temurni hurmat qilaman"
      ],
      "metadata": {
        "id": "9Ypy6tyB067n"
      }
    },
    {
      "cell_type": "code",
      "source": [],
      "metadata": {
        "id": "H7j_MAfJ1Lu9"
      },
      "execution_count": null,
      "outputs": []
    },
    {
      "cell_type": "markdown",
      "source": [
        "7. friends nomli bo'sh ro'yxat tuzing va unga .append() yordamida 5-6 ta mehmonga chaqirmoqchi bo'lgan do'stlaringizni kiriting.\n",
        "\n"
      ],
      "metadata": {
        "id": "wtG3TOn00-cy"
      }
    },
    {
      "cell_type": "code",
      "source": [
        "friends = []"
      ],
      "metadata": {
        "id": "lh5F9AnN1Lbu"
      },
      "execution_count": null,
      "outputs": []
    },
    {
      "cell_type": "markdown",
      "source": [
        "8. Ro'yxatning oxiriga, boshiga va o'rtasiga yangi ismlar qo'shing.\n",
        "\n"
      ],
      "metadata": {
        "id": "5eOTkbQC1FDl"
      }
    },
    {
      "cell_type": "code",
      "source": [],
      "metadata": {
        "id": "C42V3SpM1LDY"
      },
      "execution_count": null,
      "outputs": []
    },
    {
      "cell_type": "markdown",
      "source": [
        "9. Yangi mehmonlar deb nomlangan bo'sh ro'yxat yarating. .pop() va .append() metodlari yordamida mehmonga kelgan do'stlaringizning ismini friends ro'yxatidan sug'urib olib, mehmonlar ro'yxatiga qo'shing.\n",
        "\n"
      ],
      "metadata": {
        "id": "rbKJev241HCU"
      }
    },
    {
      "cell_type": "code",
      "source": [
        "friends = ['shoh', 'jahon', 'javohir']\n",
        "yangi_mehmonlar = []\n",
        "yangi_mehmonlar.append(friends.pop(1))\n",
        "yangi_mehmonlar"
      ],
      "metadata": {
        "id": "QfBYh6A01KD3",
        "outputId": "e453fe78-9855-4f9a-8803-4669ab69a816",
        "colab": {
          "base_uri": "https://localhost:8080/"
        }
      },
      "execution_count": 8,
      "outputs": [
        {
          "output_type": "execute_result",
          "data": {
            "text/plain": [
              "['jahon']"
            ]
          },
          "metadata": {},
          "execution_count": 8
        }
      ]
    },
    {
      "cell_type": "code",
      "source": [
        "kelgan = friends.pop(0)\n",
        "yangi_mehmonlar.append(kelgan)\n",
        "yangi_mehmonlar"
      ],
      "metadata": {
        "id": "DNU3FfBfomcZ",
        "outputId": "0fd0e798-d9ee-4069-ce11-20a69de6775e",
        "colab": {
          "base_uri": "https://localhost:8080/"
        }
      },
      "execution_count": 9,
      "outputs": [
        {
          "output_type": "execute_result",
          "data": {
            "text/plain": [
              "['jahon', 'shoh']"
            ]
          },
          "metadata": {},
          "execution_count": 9
        }
      ]
    },
    {
      "cell_type": "code",
      "source": [
        "friends"
      ],
      "metadata": {
        "id": "TeswFE0Xo83T",
        "outputId": "84da2d8d-9a31-40b6-e64e-4dd340b2b009",
        "colab": {
          "base_uri": "https://localhost:8080/"
        }
      },
      "execution_count": 11,
      "outputs": [
        {
          "output_type": "execute_result",
          "data": {
            "text/plain": [
              "['javohir']"
            ]
          },
          "metadata": {},
          "execution_count": 11
        }
      ]
    },
    {
      "cell_type": "code",
      "source": [],
      "metadata": {
        "id": "Dp4cTEV_pXzt"
      },
      "execution_count": null,
      "outputs": []
    }
  ]
}